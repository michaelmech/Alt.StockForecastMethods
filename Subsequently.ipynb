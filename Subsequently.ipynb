{
  "nbformat": 4,
  "nbformat_minor": 0,
  "metadata": {
    "colab": {
      "name": "Subsequently",
      "provenance": [],
      "collapsed_sections": []
    },
    "kernelspec": {
      "display_name": "Python 3",
      "name": "python3"
    }
  },
  "cells": [
    {
      "cell_type": "code",
      "metadata": {
        "colab": {
          "base_uri": "https://localhost:8080/"
        },
        "id": "kYY1IkqbIUYj",
        "outputId": "8a1cb0f5-a9e3-48ac-fbb0-7354da447fc2"
      },
      "source": [
        "!pip install stumpy\n",
        "!pip install finviz\n",
        "!pip install nest-asyncio"
      ],
      "execution_count": null,
      "outputs": [
        {
          "output_type": "stream",
          "text": [
            "Requirement already satisfied: stumpy in /usr/local/lib/python3.7/dist-packages (1.8.0)\n",
            "Requirement already satisfied: numba>=0.48 in /usr/local/lib/python3.7/dist-packages (from stumpy) (0.51.2)\n",
            "Requirement already satisfied: scipy>=1.5 in /usr/local/lib/python3.7/dist-packages (from stumpy) (1.6.2)\n",
            "Requirement already satisfied: numpy>=1.15 in /usr/local/lib/python3.7/dist-packages (from stumpy) (1.19.5)\n",
            "Requirement already satisfied: llvmlite<0.35,>=0.34.0.dev0 in /usr/local/lib/python3.7/dist-packages (from numba>=0.48->stumpy) (0.34.0)\n",
            "Requirement already satisfied: setuptools in /usr/local/lib/python3.7/dist-packages (from numba>=0.48->stumpy) (54.2.0)\n",
            "Requirement already satisfied: finviz in /usr/local/lib/python3.7/dist-packages (1.4.0)\n",
            "Requirement already satisfied: lxml in /usr/local/lib/python3.7/dist-packages (from finviz) (4.2.6)\n",
            "Requirement already satisfied: tenacity in /usr/local/lib/python3.7/dist-packages (from finviz) (7.0.0)\n",
            "Requirement already satisfied: cssselect in /usr/local/lib/python3.7/dist-packages (from finviz) (1.1.0)\n",
            "Requirement already satisfied: requests in /usr/local/lib/python3.7/dist-packages (from finviz) (2.23.0)\n",
            "Requirement already satisfied: user-agent in /usr/local/lib/python3.7/dist-packages (from finviz) (0.1.9)\n",
            "Requirement already satisfied: beautifulsoup4 in /usr/local/lib/python3.7/dist-packages (from finviz) (4.6.3)\n",
            "Requirement already satisfied: aiohttp in /usr/local/lib/python3.7/dist-packages (from finviz) (3.7.4.post0)\n",
            "Requirement already satisfied: tqdm in /usr/local/lib/python3.7/dist-packages (from finviz) (4.41.1)\n",
            "Requirement already satisfied: urllib3 in /usr/local/lib/python3.7/dist-packages (from finviz) (1.24.3)\n",
            "Requirement already satisfied: six>=1.9.0 in /usr/local/lib/python3.7/dist-packages (from tenacity->finviz) (1.15.0)\n",
            "Requirement already satisfied: certifi>=2017.4.17 in /usr/local/lib/python3.7/dist-packages (from requests->finviz) (2020.12.5)\n",
            "Requirement already satisfied: chardet<4,>=3.0.2 in /usr/local/lib/python3.7/dist-packages (from requests->finviz) (3.0.4)\n",
            "Requirement already satisfied: idna<3,>=2.5 in /usr/local/lib/python3.7/dist-packages (from requests->finviz) (2.10)\n",
            "Requirement already satisfied: async-timeout<4.0,>=3.0 in /usr/local/lib/python3.7/dist-packages (from aiohttp->finviz) (3.0.1)\n",
            "Requirement already satisfied: yarl<2.0,>=1.0 in /usr/local/lib/python3.7/dist-packages (from aiohttp->finviz) (1.6.3)\n",
            "Requirement already satisfied: typing-extensions>=3.6.5 in /usr/local/lib/python3.7/dist-packages (from aiohttp->finviz) (3.7.4.3)\n",
            "Requirement already satisfied: multidict<7.0,>=4.5 in /usr/local/lib/python3.7/dist-packages (from aiohttp->finviz) (5.1.0)\n",
            "Requirement already satisfied: attrs>=17.3.0 in /usr/local/lib/python3.7/dist-packages (from aiohttp->finviz) (20.3.0)\n",
            "Requirement already satisfied: nest-asyncio in /usr/local/lib/python3.7/dist-packages (1.5.1)\n",
            "Requirement already satisfied: blitz-bayesian-pytorch in /usr/local/lib/python3.7/dist-packages (0.2.7)\n",
            "Requirement already satisfied: torchvision>=0.5.0 in /usr/local/lib/python3.7/dist-packages (from blitz-bayesian-pytorch) (0.9.1+cu101)\n",
            "Requirement already satisfied: scikit-learn>=0.22.2 in /usr/local/lib/python3.7/dist-packages (from blitz-bayesian-pytorch) (0.22.2.post1)\n",
            "Requirement already satisfied: torch>=1.7.0 in /usr/local/lib/python3.7/dist-packages (from blitz-bayesian-pytorch) (1.8.1+cu101)\n",
            "Requirement already satisfied: pillow>=7.1 in /usr/local/lib/python3.7/dist-packages (from blitz-bayesian-pytorch) (7.1.2)\n",
            "Requirement already satisfied: numpy in /usr/local/lib/python3.7/dist-packages (from blitz-bayesian-pytorch) (1.19.5)\n",
            "Requirement already satisfied: joblib>=0.11 in /usr/local/lib/python3.7/dist-packages (from scikit-learn>=0.22.2->blitz-bayesian-pytorch) (1.0.1)\n",
            "Requirement already satisfied: scipy>=0.17.0 in /usr/local/lib/python3.7/dist-packages (from scikit-learn>=0.22.2->blitz-bayesian-pytorch) (1.6.2)\n",
            "Requirement already satisfied: typing-extensions in /usr/local/lib/python3.7/dist-packages (from torch>=1.7.0->blitz-bayesian-pytorch) (3.7.4.3)\n"
          ],
          "name": "stdout"
        }
      ]
    },
    {
      "cell_type": "code",
      "metadata": {
        "id": "oDjYW6zDImwl"
      },
      "source": [
        "import numpy as np\n",
        "import matplotlib.pyplot as plt\n",
        "import stumpy\n",
        "import pandas as pd\n",
        "import finviz\n",
        "import scipy\n",
        "import pandas_datareader as pdr\n",
        "import statsmodels\n",
        "from sklearn import metrics\n",
        " \n",
        "import timeit\n",
        "import torch\n",
        "import torch.nn as nn\n",
        "\n",
        "from blitz.modules import BayesianLSTM\n",
        "from blitz.modules import BayesianLinear\n",
        "from blitz.utils import variational_estimator\n",
        " \n",
        "from finviz.screener import Screener\n",
        "import nest_asyncio\n",
        "nest_asyncio.apply()"
      ],
      "execution_count": null,
      "outputs": []
    },
    {
      "cell_type": "code",
      "metadata": {
        "id": "Cig1QYWeO7Mj",
        "colab": {
          "base_uri": "https://localhost:8080/"
        },
        "outputId": "7739db6c-0592-4d85-b8bf-776a82603019"
      },
      "source": [
        "from statsmodels.api import OLS, add_constant\n",
        "from statsmodels.tsa.stattools import adfuller\n",
        "from statsmodels.tsa.stattools import grangercausalitytests as gr_cause\n",
        " \n",
        "def estimate_long_run_short_run_relationships(y, x):\n",
        "    \"\"\"Estimates long-run and short-run cointegration relationship for series y and x. \n",
        "    \n",
        "    Uses a 2-step process to first estimate coefficients for the long-run relationship\n",
        "        y_t = c + gamma * x_t + z_t\n",
        "        \n",
        "    and then the short-term relationship,\n",
        "        y_t - y_(t-1) = alpha * z_(t-1) + epsilon_t,\n",
        "        \n",
        "    with z the found residuals of the first equation.\n",
        "    \n",
        "    Parameters\n",
        "    ----------\n",
        "    y : pd.Series\n",
        "        The first time series of the pair to analyse.\n",
        "    \n",
        "    x : pd.Series\n",
        "        The second time series of the pair to analyse.\n",
        "    \n",
        "    Returns\n",
        "    -------\n",
        "    c : float\n",
        "        The constant term in the long-run relationship y_t = c + gamma * x_t + z_t. This \n",
        "        describes the static shift of y with respect to gamma * x.\n",
        "        \n",
        "    gamma : float\n",
        "        The gamma term in the long-run relationship y_t = c + gamma * x_t + z_t. This\n",
        "        describes the ratio between the const-shifted y and x.\n",
        "        \n",
        "    alpha : float\n",
        "        The alpha term in the short-run relationship y_t - y_(t-1) = alpha * z_(t-1) + epsilon. This\n",
        "        gives an indication of the strength of the error correction toward the long-run mean.\n",
        "    \n",
        "    z : pd.Series\n",
        "        Series of residuals z_t from the long-run relationship y_t = c + gamma * x_t + z_t, representing\n",
        "        the value of the error correction term. \n",
        "        \n",
        "    \"\"\"\n",
        "    \n",
        "    assert isinstance(y, pd.Series), 'Input series y should be of type pd.Series'\n",
        "    assert isinstance(x, pd.Series), 'Input series x should be of type pd.Series'\n",
        "    assert sum(y.isnull()) == 0, 'Input series y has nan-values. Unhandled case.'\n",
        "    assert sum(x.isnull()) == 0, 'Input series x has nan-values. Unhandled case.'\n",
        "    assert y.index.equals(x.index), 'The two input series y and x do not have the same index.'\n",
        "    \n",
        "    long_run_ols = OLS(y, add_constant(x), has_const=True)\n",
        "    long_run_ols_fit = long_run_ols.fit()\n",
        "    \n",
        "    c, gamma = long_run_ols_fit.params\n",
        "    z = long_run_ols_fit.resid\n",
        " \n",
        "    short_run_ols = OLS(y.diff().iloc[1:], (z.shift().iloc[1:]))\n",
        "    short_run_ols_fit = short_run_ols.fit()\n",
        "    \n",
        "    alpha = short_run_ols_fit.params[0]\n",
        "        \n",
        "    return c, gamma, alpha, z\n",
        " \n",
        " \n",
        "def cointegrate(y, x,lag):\n",
        "    \"\"\"Applies the two-step Engle & Granger test for cointegration. \n",
        "    \n",
        "    First fits the long-run relationship\n",
        "        y_t = c + gamma * x_t + z_t\n",
        "    \n",
        "    and then tests, by Dickey-Fuller phi=1 vs phi < 1 in\n",
        "        z_t = phi * z_(t-1) + eta_t\n",
        "        \n",
        "    If this implies phi < 1, the z series is stationary is concluded to be\n",
        "    stationary, and thus the series y and x are concluded to be cointegrated.\n",
        "    Parameters\n",
        "    ----------\n",
        "    y : pd.Series\n",
        "        the first time series of the pair to analyse\n",
        "    \n",
        "    x : pd.Series\n",
        "        the second time series of the pair to analyse\n",
        "        \n",
        "    Returns\n",
        "    -------\n",
        "    dfstat : float\n",
        "        The Dickey Fuller test-statistic for phi = 1 vs phi < 1 in the second equation. A more \n",
        "        negative value implies the existence of stronger cointegration.\n",
        "    \n",
        "    pvalue : float\n",
        "        The p-value corresponding to the Dickey Fuller test-statistic. A lower value implies\n",
        "        stronger rejection of no-cointegration, thus stronger evidence of cointegration.\n",
        "        \n",
        "    \"\"\"\n",
        "    \n",
        "    assert isinstance(y, pd.Series), 'Input series y should be of type pd.Series'\n",
        "    assert isinstance(x, pd.Series), 'Input series x should be of type pd.Series'\n",
        "    assert sum(y.isnull()) == 0, 'Input series y has nan-values. Unhandled case.'\n",
        "    assert sum(x.isnull()) == 0, 'Input series x has nan-values. Unhandled case.'\n",
        "    assert y.index.equals(x.index), 'The two input series y and x do not have the same index.'\n",
        "    \n",
        "    c, gamma, alpha, z = estimate_long_run_short_run_relationships(y, x)\n",
        "    \n",
        "    # NOTE: The p-value returned by the adfuller function assumes we do not estimate z first, but test \n",
        "    # stationarity of an unestimated series directly. This assumption should have limited effect for high N, \n",
        "    # so for the purposes of this course this p-value can be used for the EG-test. Critical values taking \n",
        "    # this into account more accurately are provided in e.g. McKinnon (1990) and Engle & Yoo (1987).\n",
        "    \n",
        "    adfstat, p_value, lags, nobs, crit_values = adfuller(z, maxlag=lag, autolag=None)\n",
        "   \n",
        "    return p_value, gamma,alpha,lags\n",
        " \n",
        " \n",
        "def Coint_Mats(df):\n",
        "  P_Mat=pd.DataFrame(index=df.columns,columns=df.columns)\n",
        "  for stock1 in df:\n",
        "    for stock2 in df:\n",
        "      if stock1==stock2:\n",
        "        P_Mat.loc[stock1,stock2]=0\n",
        "      else:\n",
        "        p_value,gamma,alpha,lags =cointegrate(df[stock1],df[stock2],lag=0)\n",
        "        P_Mat.loc[stock1,stock2]=p_value\n",
        "  return  P_Mat"
      ],
      "execution_count": null,
      "outputs": [
        {
          "output_type": "stream",
          "text": [
            "/usr/local/lib/python3.7/dist-packages/statsmodels/tools/_testing.py:19: FutureWarning: pandas.util.testing is deprecated. Use the functions in the public API at pandas.testing instead.\n",
            "  import pandas.util.testing as tm\n"
          ],
          "name": "stderr"
        }
      ]
    },
    {
      "cell_type": "code",
      "metadata": {
        "id": "zCP041_yI1yh"
      },
      "source": [
        "def Naive_Subsequent(main_ticker):\n",
        "  global close_df,vol_df,pair,period,query\n",
        "  stock_info=finviz.get_stock(main_ticker)\n",
        "  \n",
        "  industry=''.join(e for e in stock_info['Industry'].lower() if e.isalnum())\n",
        "  filters=['ind_'+industry]\n",
        "  \n",
        "  screener=Screener(filters=filters)\n",
        "  \n",
        "  ticker_list=[info['Ticker'] for info in screener]\n",
        "  \n",
        "  vol_df=pd.DataFrame()\n",
        "  close_df=pd.DataFrame()\n",
        "  for ticker in ticker_list:\n",
        "    ticker=str(ticker) \n",
        "    close_df[ticker]=pdr.get_data_yahoo(ticker).Close.iloc[:-1]                       ######### modified\n",
        "    vol_df[ticker]=(pdr.get_data_yahoo(ticker).Volume.iloc[:-1]+0.01).pct_change()    ########\n",
        "\n",
        "  nulls=np.where(close_df.isnull().sum()>20)[0]\n",
        "  close_df=close_df.drop(close_df.iloc[:,nulls],axis=1)\n",
        "  pct_df=close_df.pct_change()\n",
        "   \n",
        "  coint_mat=Coint_Mats(close_df)\n",
        "  \n",
        "  idx,idy=np.where(coint_mat<=0.05)\n",
        "  \n",
        "  indices=np.column_stack([coint_mat.index[idx], coint_mat.columns[idy]])\n",
        "  \n",
        "  coint_pairs=[pair.tolist() for pair in indices if (coint_mat.loc[pair[0],pair[-1]] <=0.03) & (coint_mat.loc[pair[-1],pair[0]] <=0.03)]\n",
        "  \n",
        "  periods_list=[10,11,12,13,14,15,16,17,18,19,20] #1 and 2 weeks, 1 month \n",
        "  periods_df=pd.DataFrame()\n",
        "\n",
        "  for period in periods_list:\n",
        "    for pair in coint_pairs:\n",
        "      try:\n",
        "        query=pct_df[pair[0]].iloc[-period:]\n",
        "        series=pct_df[pair[1]]\n",
        "        dist_prof=stumpy.core.mass(query,series)\n",
        "\n",
        "        short_prof=dist_prof\n",
        "\n",
        "        top_n=6\n",
        "        \n",
        "        if len(short_prof)<=top_n:\n",
        "          idxs=np.argpartition(short_prof,top_n)\n",
        "        else:\n",
        "          idxs = np.argpartition(short_prof,top_n)[:top_n]\n",
        "\n",
        "        idxs = idxs[np.argsort(short_prof[idxs])]\n",
        "    \n",
        "        vol_error_list=[Naive_Volumes(pair,idx) for idx in idxs]\n",
        "        \n",
        "        #for idx in idxs:\n",
        "          #vol_ratiosQ=vol_df[pair[0]].iloc[-period:]\n",
        "          #vol_ratiosS=vol_df[pair[1]].iloc[idx:idx+len(query)] \n",
        "              \n",
        "          #vol_error=metrics.mean_squared_error(vol_ratiosQ,vol_ratiosS)\n",
        "          #vol_error_list.append(vol_error)\n",
        "\n",
        "\n",
        "        lowest=np.argmin(vol_error_list)\n",
        "\n",
        "        #print('{period} days: {stock1} prediction for next period from {stock2} is {prediction} with vol error {vol_error}'\n",
        "        #.format(period=period,stock1=pair[0],stock2=pair[1],prediction=float(pct_df[pair[1]].iloc[idxs[lowest]+len(query)]),vol_error=vol_error_list[lowest]))\n",
        "      \n",
        "        if vol_error_list[lowest] <=1:\n",
        "          prediction=float(pct_df[pair[1]].iloc[idxs[lowest]+len(query)+1])\n",
        "          periods_df.loc[pair[0]+str(period),pair[1]]=prediction\n",
        "\n",
        "      except (ValueError,IndexError):\n",
        "        pass\n",
        "    neg_scores=sum(n<0 for n in periods_df.values.flatten())\n",
        "    pos_scores=sum(n>0 for n in periods_df.values.flatten())\n",
        "    average_score=periods_df.mean().median()\n",
        "\n",
        "    print(neg_scores,'neg scores',pos_scores,'pos scores',average_score,'is average')\n",
        "    return periods_df\n",
        "\n",
        "def Naive_Volumes(pair,idx):\n",
        "  vol_ratiosQ=vol_df[pair[0]].iloc[-period:]\n",
        "  vol_ratiosS=vol_df[pair[1]].iloc[idx:idx+len(query)] \n",
        "      \n",
        "  vol_error=metrics.mean_squared_error(vol_ratiosQ,vol_ratiosS)\n",
        "  #vol_error=abs(1-(metrics.r2_score(vol_ratiosQ,vol_ratiosS)))\n",
        "  \n",
        "  return vol_error"
      ],
      "execution_count": null,
      "outputs": []
    },
    {
      "cell_type": "code",
      "metadata": {
        "id": "FmFN6_NAEAf-"
      },
      "source": [
        "def get_confidence_intervals(periods_df, ci_multiplier):\n",
        "    \n",
        "  #pred_mean=np.nanmean(periods_df.values)\n",
        "  pred_mean=periods_df.mean().median()\n",
        "  pred_std=np.nanstd(periods_df.values)\n",
        "  \n",
        "  upper_bound = pred_mean + (pred_std * ci_multiplier)\n",
        "  lower_bound = pred_mean - (pred_std * ci_multiplier)\n",
        "  #gather unscaled confidence intervals\n",
        "\n",
        "  return pred_mean,upper_bound,lower_bound"
      ],
      "execution_count": null,
      "outputs": []
    },
    {
      "cell_type": "code",
      "metadata": {
        "id": "PCRkM43OGPCs"
      },
      "source": [
        "def confidence_acc(periods_df):\n",
        "  pred_mean,upper_bound,lower_bound=get_confidence_intervals(periods_df,10)\n",
        "  ic_acc=np.nanmean((lower_bound <=periods_df.values) * (upper_bound >=periods_df.values))\n",
        "  under_ci_upper=np.nanmean(upper_bound >= periods_df.values).mean()\n",
        "  over_ci_lower=np.nanmean(lower_bound <= periods_df.values)\n",
        "  print(\"CI acc: {:.2f}, CI upper acc: {:.2f}, CI lower acc: {:.2f}\".format(ic_acc, under_ci_upper, over_ci_lower))\n",
        "\n",
        "  return ic_acc"
      ],
      "execution_count": null,
      "outputs": []
    },
    {
      "cell_type": "code",
      "metadata": {
        "id": "f0wr6j1JJPb0"
      },
      "source": [
        " def Position_Size(account_value,risk_percent,price,stop_loss): \n",
        "  account_risk=risk_percent*account_value\n",
        "  trade_risk=price-stop_loss\n",
        "  position_size=account_risk/trade_risk\n",
        "  trade_risk_percent= trade_risk/price\n",
        " \n",
        "  print('position_size:',position_size)\n",
        "  \n",
        "  return position_size,trade_risk,trade_risk_percent"
      ],
      "execution_count": null,
      "outputs": []
    },
    {
      "cell_type": "code",
      "metadata": {
        "id": "XqBM8K82NKPp"
      },
      "source": [
        "def DoEverything():\n",
        "  string=input()\n",
        "  ticker_list=string.split(',')\n",
        "\n",
        "  for ticker in ticker_list:\n",
        "    periods_df=Naive_Subsequent(ticker)\n",
        "\n",
        "    ic_acc=confidence_acc(periods_df)\n",
        "\n",
        "    print('ticker',':',ticker)"
      ],
      "execution_count": null,
      "outputs": []
    },
    {
      "cell_type": "code",
      "metadata": {
        "id": "7TpJeVzCNLxi",
        "colab": {
          "base_uri": "https://localhost:8080/"
        },
        "outputId": "dd090dc7-ccc4-44b2-b8ec-18beb593cc6d"
      },
      "source": [
        "DoEverything()"
      ],
      "execution_count": null,
      "outputs": [
        {
          "output_type": "stream",
          "text": [
            "leu\n"
          ],
          "name": "stdout"
        },
        {
          "output_type": "stream",
          "text": [
            "100%|██████████| 1/1 [00:00<00:00,  8.63it/s]\n"
          ],
          "name": "stderr"
        },
        {
          "output_type": "stream",
          "text": [
            "15 neg scores 8 pos scores -0.011129530387807207 is average\n",
            "CI acc: 0.72, CI upper acc: 0.72, CI lower acc: 0.72\n",
            "ticker : leu\n"
          ],
          "name": "stdout"
        }
      ]
    },
    {
      "cell_type": "code",
      "metadata": {
        "id": "lHc0dgslNi4d"
      },
      "source": [
        ""
      ],
      "execution_count": null,
      "outputs": []
    }
  ]
}